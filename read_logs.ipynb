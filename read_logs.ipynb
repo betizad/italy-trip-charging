{
 "cells": [
  {
   "cell_type": "markdown",
   "metadata": {},
   "source": [
    "## Import libraries"
   ]
  },
  {
   "cell_type": "code",
   "execution_count": 1,
   "metadata": {},
   "outputs": [],
   "source": [
    "import json\n",
    "import time\n",
    "import os\n",
    "\n",
    "import pandas as pd\n",
    "import numpy as np\n",
    "from geopy.geocoders import Nominatim\n",
    "import folium\n",
    "import openrouteservice"
   ]
  },
  {
   "cell_type": "markdown",
   "metadata": {},
   "source": [
    "## Constants"
   ]
  },
  {
   "cell_type": "code",
   "execution_count": 2,
   "metadata": {},
   "outputs": [],
   "source": [
    "avgKwhPerKm = 0.21"
   ]
  },
  {
   "cell_type": "markdown",
   "metadata": {},
   "source": [
    "## Read Journal Log csv file"
   ]
  },
  {
   "cell_type": "code",
   "execution_count": 3,
   "metadata": {},
   "outputs": [],
   "source": [
    "pdfLogs = pd.read_csv(\"logs/journal-log_2022-12-17.csv\")\n",
    "pdfLogs = pdfLogs[pdfLogs.Started>\"2022-12-17\"]"
   ]
  },
  {
   "cell_type": "markdown",
   "metadata": {},
   "source": [
    "## Geo Decode addresses\n",
    "Notice that Nominatim could not decode some of the addresses and I addded them manually to json file."
   ]
  },
  {
   "cell_type": "code",
   "execution_count": 4,
   "metadata": {},
   "outputs": [
    {
     "name": "stdout",
     "output_type": "stream",
     "text": [
      "loaded from cache folder: 48 mappings\n"
     ]
    }
   ],
   "source": [
    "ADDRESS_MAP_FILE = \"cache/addressMap.json\"\n",
    "\n",
    "if os.path.isfile(ADDRESS_MAP_FILE):\n",
    "    with open(ADDRESS_MAP_FILE, \"r\") as fp:\n",
    "        addMap = json.load(fp) \n",
    "    print(f\"loaded from cache folder: {len(addMap)} mappings\")\n",
    "else:\n",
    "    address = pdfLogs[[\"Start address\",\"End address\"]].values\n",
    "    address = [item for sublist in address for item in sublist]\n",
    "    address = list(set(address))\n",
    "    print(len(address))\n",
    "    geolocator = Nominatim(user_agent = \"LocationMappe\")\n",
    "    addMap={}\n",
    "    for a in address:\n",
    "        location = geolocator.geocode(a)\n",
    "        if location:\n",
    "            addMap.update({a: {\"lat\":location.latitude,\"lon\":location.longitude}})\n",
    "    \n",
    "    # save the mapping as json file\n",
    "    with open(ADDRESS_MAP_FILE, \"w\") as fp:\n",
    "        json.dump(addMap , fp)\n",
    "    print(f\"queried with Nominatim and saved in cache folder: {len(addMap)} mappings\")"
   ]
  },
  {
   "cell_type": "markdown",
   "metadata": {},
   "source": [
    "## Decode the start & end addresses to Lat/Lon with the mapping table\n",
    "- Caching the results to routesMap.json file\n",
    "- setup openrouteservice client with api key, you can signup https://openrouteservice.org \n",
    "- After signup, you can see your API key available under the dashboard tab."
   ]
  },
  {
   "cell_type": "code",
   "execution_count": 5,
   "metadata": {},
   "outputs": [],
   "source": [
    "def decodeAddressesToCoordinates(pdfin):\n",
    "    pdfin['StartAddressCoordinates'] = pdfin['Start address'].map(addMap)\n",
    "    pdfin = (pdfin\n",
    "             .join(pd\n",
    "                   .json_normalize(pdfin.StartAddressCoordinates)\n",
    "                   .rename(columns={\"lat\":\"StartLat\",\"lon\":\"StartLon\"})\n",
    "                  )\n",
    "             .drop('StartAddressCoordinates', axis='columns')\n",
    "            )\n",
    "    pdfin['EndAddressCoordinates'] = pdfin['End address'].map(addMap)\n",
    "    pdfin = (pdfin\n",
    "             .join(pd\n",
    "                   .json_normalize(pdfin.EndAddressCoordinates)\n",
    "                   .rename(columns={\"lat\":\"EndLat\",\"lon\":\"EndLon\"})\n",
    "                  )\n",
    "             .drop('EndAddressCoordinates', axis='columns')\n",
    "            )\n",
    "    return pdfin"
   ]
  },
  {
   "cell_type": "code",
   "execution_count": 6,
   "metadata": {},
   "outputs": [
    {
     "name": "stdout",
     "output_type": "stream",
     "text": [
      "loaded from cache folder: 51 mappings\n",
      "done.\n"
     ]
    }
   ],
   "source": [
    "ROUTES_MAP_FILE = \"cache/routesMap.json\"\n",
    "\n",
    "pdfRoutes = pdfLogs.loc[:,['Started', 'Start address', 'End address']]\n",
    "pdfRoutes = decodeAddressesToCoordinates(pdfRoutes)\n",
    "\n",
    "if os.path.isfile(ROUTES_MAP_FILE):\n",
    "    pdfRoutesMap = pd.read_json(ROUTES_MAP_FILE).set_index(\"Started\")\n",
    "    pdfRoutes = pdfRoutes.set_index(\"Started\").join(pdfRoutesMap).reset_index().replace(np.nan, None)\n",
    "    print(f\"loaded from cache folder: {pdfRoutesMap.shape[0]} mappings\")\n",
    "else:\n",
    "    pdfRoutes[\"route\"] = None\n",
    "\n",
    "openrouteserviceAPIKey='xxxxxx'\n",
    "exportRoutesMap = False\n",
    "routes = pdfRoutes[\"route\"].values\n",
    "for idx in range(len(routes)):\n",
    "    if routes[idx]==None:\n",
    "        exportRoutesMap = True\n",
    "        print(idx,end=\",\")\n",
    "        drivePath = pdfRoutes.iloc[idx]\n",
    "        \n",
    "        # putting some pause while we use the free API call\n",
    "        time.sleep(2)\n",
    "        \n",
    "        # prepare the client\n",
    "        client = openrouteservice.Client(key=openrouteserviceAPIKey)\n",
    "        \n",
    "        # set routing start and end coordinates\n",
    "        coords = ((       drivePath[\"StartLon\"],drivePath[\"StartLat\"] ),(       drivePath[\"EndLon\"],drivePath[\"EndLat\"]    )) #\n",
    "        \n",
    "        # just an expception for the journey starting from Pisa, to take a route that goes through (10.722359,43.333864)\n",
    "        if \"Pisa\" in drivePath[\"Start address\"]:\n",
    "            coords = (coords[0] , (10.722359,43.333864), coords[1])\n",
    "        \n",
    "        #call the API\n",
    "        res = client.directions(coords, optimize_waypoints=True, profile='driving-car')\n",
    "        geometry = client.directions(coords)['routes'][0]['geometry']\n",
    "        decoded = openrouteservice.convert.decode_polyline(geometry)\n",
    "        routes[idx]=decoded\n",
    "        \n",
    "if exportRoutesMap:\n",
    "    pdfRoutesMap = pdfRoutes.loc[:,[\"Started\",\"route\"]].dropna()\n",
    "    pdfRoutesMap.to_json(ROUTES_MAP_FILE, orient=\"records\")#.set_index(\"Started\")\n",
    "print(\"done.\")"
   ]
  },
  {
   "cell_type": "code",
   "execution_count": 7,
   "metadata": {},
   "outputs": [],
   "source": [
    "pdfRoutesMap = pd.read_json(ROUTES_MAP_FILE).set_index(\"Started\")\n",
    "pdfLogs = decodeAddressesToCoordinates(pdfLogs)\n",
    "pdfLogs = pdfLogs.set_index(\"Started\").join(pdfRoutesMap).reset_index().replace(np.nan, None)"
   ]
  },
  {
   "cell_type": "markdown",
   "metadata": {},
   "source": [
    "# Import Fill-Ups"
   ]
  },
  {
   "cell_type": "code",
   "execution_count": 8,
   "metadata": {},
   "outputs": [
    {
     "name": "stdout",
     "output_type": "stream",
     "text": [
      "Total Electric Filleups: \t89.2 kWh, \t13.0 times, \t19.2 CHF\n",
      "Total Gas Filleups: \t\t115.8 Liter, \t4.0 times, \t167.2 CHF\n"
     ]
    }
   ],
   "source": [
    "pdfFillup = pd.read_csv(\"logs/Fuelup_Records_2022-12-17.csv\")\n",
    "pdfFillup = pdfFillup[pdfFillup.Vehicle==\"CoCo\"]\n",
    "pdfFillup = pdfFillup[pdfFillup.Type==\"Gas\"]\n",
    "pdfFillup = pdfFillup[pdfFillup.Date>=\"2022-12-17\"]\n",
    "pdfFillup = pdfFillup[pdfFillup.Date<=\"2022-12-25\"]\n",
    "pdfFillup[\"Tags\"] = pdfFillup[\"Tags\"].fillna(\"Gas\")\n",
    "pdfFillup.Tags = pdfFillup.Tags.str.rstrip()\n",
    "pdfFillup[\"Electric\"] = pdfFillup[\"Notes\"].str.replace(\"kWh\",\"\").astype(\"float\")\n",
    "pdfFillup[\"Cost/Liter\"] = pdfFillup[\"Cost/Liter\"].str.replace(\"CHF \",\"\").astype(\"float\")\n",
    "pdfFillup[\"Total Cost\"] = pdfFillup[\"Total Cost\"].str.replace(\"CHF \",\"\").astype(\"float\")\n",
    "pdfFillup.loc[pdfFillup.Tags==\"Electric\",\"Liters\"]=pdfFillup.loc[pdfFillup.Tags==\"Electric\",\"Electric\"]\n",
    "pdfFillup.loc[pdfFillup.Tags==\"Electric\",\"Cost/Liter\"]=(pdfFillup.loc[pdfFillup.Tags==\"Electric\",\"Total Cost\"]\n",
    "                                                        /pdfFillup.loc[pdfFillup.Tags==\"Electric\",\"Electric\"]\n",
    "                                                       )\n",
    "pdfFillup[\"kWh\"] = pdfFillup[\"Liters\"]\n",
    "pdfFillup.loc[pdfFillup.Tags==\"Electric\",\"Liters\"]=None\n",
    "pdfFillup.loc[pdfFillup.Tags!=\"Electric\",\"kWh\"]=None\n",
    "pdfFillup.Odometer = pdfFillup.Odometer.str.replace(\"'\",\"\").astype(\"int\")\n",
    "pdfFillup = pdfFillup.drop([\"Type\", \"Vehicle\",\"Location\",\"Gas Brand\",\"Payment Type\",\"Tire Pressure\",\"Notes\",\"Electric\",\"Tags\"],axis=\"columns\")\n",
    "pdfFillup = pdfFillup.rename(columns={\"Cost/Liter\":\"Cost/unit\",\"Services\":\"Notes\"})\n",
    "\n",
    "print(f\"Total Electric Filleups: \\t{pdfFillup.kWh.sum():.1f} kWh, \\t{pdfFillup.kWh.count():.1f} times, \\t{pdfFillup.loc[:,['Total Cost','kWh']].dropna()['Total Cost'].sum():.1f} CHF\")\n",
    "print(f\"Total Gas Filleups: \\t\\t{pdfFillup.Liters.sum():.1f} Liter, \\t{pdfFillup.Liters.count():.1f} times, \\t{pdfFillup.loc[:,['Total Cost','Liters']].dropna()['Total Cost'].sum():.1f} CHF\")"
   ]
  },
  {
   "cell_type": "markdown",
   "metadata": {},
   "source": [
    "## Load routes and join with fillups"
   ]
  },
  {
   "cell_type": "code",
   "execution_count": 9,
   "metadata": {},
   "outputs": [],
   "source": [
    "pdfLogs.loc[pdfLogs[\"Distance (km)\"]<1,\"End odometer (km)\"]=pdfLogs.loc[pdfLogs[\"Distance (km)\"]<1,\"Start odometer (km)\"] + pdfLogs.loc[pdfLogs[\"Distance (km)\"]<1,\"Distance (km)\"]\n",
    "pdf = pdfLogs.set_index(\"End odometer (km)\").join(pdfFillup.drop([\"L/100km\",\"Date\",\"Time\",\"Filled Up\"],axis=\"columns\")\n",
    "                                              .rename(columns={\"Odometer\":\"End odometer (km)\",\"Liters\":\"Fillup (Liter)\", \"kWh\":\"Fillup (kWh)\"}).set_index(\"End odometer (km)\"), \n",
    "         how=\"left\", rsuffix=\"_r\"\n",
    "        ).reset_index()"
   ]
  },
  {
   "cell_type": "markdown",
   "metadata": {},
   "source": [
    "## Calculate aggregated fillups, consumption, distance, and electric share"
   ]
  },
  {
   "cell_type": "code",
   "execution_count": 10,
   "metadata": {},
   "outputs": [
    {
     "data": {
      "text/html": [
       "<div>\n",
       "<style scoped>\n",
       "    .dataframe tbody tr th:only-of-type {\n",
       "        vertical-align: middle;\n",
       "    }\n",
       "\n",
       "    .dataframe tbody tr th {\n",
       "        vertical-align: top;\n",
       "    }\n",
       "\n",
       "    .dataframe thead th {\n",
       "        text-align: right;\n",
       "    }\n",
       "</style>\n",
       "<table border=\"1\" class=\"dataframe\">\n",
       "  <thead>\n",
       "    <tr style=\"text-align: right;\">\n",
       "      <th></th>\n",
       "      <th>Value</th>\n",
       "    </tr>\n",
       "    <tr>\n",
       "      <th>Aggregation</th>\n",
       "      <th></th>\n",
       "    </tr>\n",
       "  </thead>\n",
       "  <tbody>\n",
       "    <tr>\n",
       "      <th>Battery regeneration (kWh)</th>\n",
       "      <td>90.1</td>\n",
       "    </tr>\n",
       "    <tr>\n",
       "      <th>Battery consumption (kWh)</th>\n",
       "      <td>160.7</td>\n",
       "    </tr>\n",
       "    <tr>\n",
       "      <th>Fuel consumption (litres)</th>\n",
       "      <td>120.3</td>\n",
       "    </tr>\n",
       "    <tr>\n",
       "      <th>Distance (km)</th>\n",
       "      <td>2077.5</td>\n",
       "    </tr>\n",
       "    <tr>\n",
       "      <th>Fillup (Liter)</th>\n",
       "      <td>115.8</td>\n",
       "    </tr>\n",
       "    <tr>\n",
       "      <th>Fillup (kWh)</th>\n",
       "      <td>89.2</td>\n",
       "    </tr>\n",
       "    <tr>\n",
       "      <th>Calculated Electric Share %</th>\n",
       "      <td>36.8</td>\n",
       "    </tr>\n",
       "  </tbody>\n",
       "</table>\n",
       "</div>"
      ],
      "text/plain": [
       "                              Value\n",
       "Aggregation                        \n",
       "Battery regeneration (kWh)     90.1\n",
       "Battery consumption (kWh)     160.7\n",
       "Fuel consumption (litres)     120.3\n",
       "Distance (km)                2077.5\n",
       "Fillup (Liter)                115.8\n",
       "Fillup (kWh)                   89.2\n",
       "Calculated Electric Share %    36.8"
      ]
     },
     "metadata": {},
     "output_type": "display_data"
    }
   ],
   "source": [
    "cols=[\"Battery regeneration (kWh)\",\"Battery consumption (kWh)\",\"Fuel consumption (litres)\",\"Distance (km)\",\"Fillup (Liter)\",\"Fillup (kWh)\"]\n",
    "printStr=[]\n",
    "for colName in cols:\n",
    "    printStr.append([colName,f\"{pdf[colName].sum():.1f}\"])\n",
    "printStr.append([\"Calculated Electric Share %\", round((100 * pdf[\"Battery consumption (kWh)\"].sum() / avgKwhPerKm)/pdf[\"Distance (km)\"].sum(),1)])\n",
    "display(pd\n",
    "        .DataFrame(printStr,\n",
    "                   columns=[\"Aggregation\",\"Value\"])\n",
    "        .set_index(\"Aggregation\")\n",
    "       )"
   ]
  },
  {
   "cell_type": "markdown",
   "metadata": {},
   "source": [
    "## Export HTML map with success/fail/note of charging points"
   ]
  },
  {
   "cell_type": "code",
   "execution_count": 11,
   "metadata": {},
   "outputs": [],
   "source": [
    "# set random factor for duplicated end markers\n",
    "pdf[\"randFactor\"]=0\n",
    "pdf[\"Remarks\"]=None\n",
    "remarks = pdf[\"Remarks\"]\n",
    "idx = pdf[pdf.loc[:,[\"EndLat\",\"EndLon\"]].duplicated(keep=False)].index\n",
    "pdf.loc[idx,\"randFactor\"]=0.00066\n",
    "\n",
    "pdf.sort_values(by=['Fillup (kWh)',\"Notes\",\"Fillup (Liter)\"], ascending=True, inplace=True)\n",
    "\n",
    "m = folium.Map(location=[45.500834101180175, 9.771564151850093],\n",
    "               zoom_start=7)\n",
    "folium.LatLngPopup().add_to(m)\n",
    "counts = {\"Park&Charge\":0,\n",
    "          \"Missing&ChargeMalfunction\":0,\n",
    "         }\n",
    "for idx,drivePath in pdf.iterrows():\n",
    "    LinesCoords = [[i[1],i[0]]for i in drivePath[\"route\"][\"coordinates\"]]\n",
    "    tooltip = \"Click here for more details\"\n",
    "    textStr = \"\"\n",
    "    if pd.notna(drivePath['Fillup (kWh)']):\n",
    "        icon=folium.Icon(color='green', prefix='fa',icon='plug')\n",
    "        counts[\"Park&Charge\"] += 1\n",
    "        pdf.loc[idx,\"Remarks\"]=\"Park&Charge\"\n",
    "    elif pd.notna(drivePath['Notes']):\n",
    "        icon=folium.Icon(color='red', prefix='fa',icon='plug')\n",
    "        counts[\"Missing&ChargeMalfunction\"] += 1\n",
    "        pdf.loc[idx,\"Remarks\"]=\"Missing&ChargeMalfunction\"\n",
    "    elif pd.notna(drivePath['Fillup (Liter)']):\n",
    "        icon=folium.Icon(color='blue', prefix='fa',icon='tint')\n",
    "    else:\n",
    "        icon=folium.Icon(color='black', prefix='fa',icon='parking')\n",
    "        \n",
    "    if pd.notna(drivePath['Notes']):\n",
    "        textStr += \"Notes:\"+str(drivePath['Notes'])+\"<br>\"    \n",
    "    if pd.notna(drivePath['Fillup (kWh)']):\n",
    "        textStr += str(drivePath['Fillup (kWh)'])+\" (+kWh fillup)\"+\"<br>\"   \n",
    "    if pd.notna(drivePath['Fillup (Liter)']):\n",
    "        textStr += str(drivePath['Fillup (Liter)'])+\" (+liter fillup)\"+\"<br>\"  \n",
    "        \n",
    "    textStr += (\n",
    "                \"\"\n",
    "                +\"Odometer:\"+str(drivePath['End odometer (km)'])+\"<br>\"    \n",
    "                +\"Stopped:\"+str(drivePath['Stopped'])+\"<br>\"    \n",
    "               )\n",
    "    \n",
    "    iframe = folium.IFrame(textStr)\n",
    "    popup = folium.Popup(iframe, min_width=300, max_width=300)\n",
    "    \n",
    "    folium.PolyLine(LinesCoords, color=\"blue\",opacity=0.7).add_to(m)\n",
    "    \n",
    "    \n",
    "    folium.Marker(location=(drivePath[\"EndLat\"]+(np.random.rand()-0.5)*drivePath[\"randFactor\"],drivePath[\"EndLon\"]+(np.random.rand()-0.5)*drivePath[\"randFactor\"]),\n",
    "                  popup=popup, icon=icon, tooltip = tooltip).add_to(m)\n",
    "m.save(\"./output/index.html\")"
   ]
  },
  {
   "cell_type": "markdown",
   "metadata": {},
   "source": [
    "## Count of success/failed Charges"
   ]
  },
  {
   "cell_type": "code",
   "execution_count": 12,
   "metadata": {},
   "outputs": [
    {
     "name": "stdout",
     "output_type": "stream",
     "text": [
      "Count of Park&Charge: \t\t\t13\n",
      "Count of Missing & Charge Malfunction: \t9\n"
     ]
    }
   ],
   "source": [
    "print(f\"Count of Park&Charge: \\t\\t\\t{counts['Park&Charge']}\")\n",
    "print(f\"Count of Missing & Charge Malfunction: \\t{counts['Missing&ChargeMalfunction']}\")"
   ]
  },
  {
   "cell_type": "markdown",
   "metadata": {},
   "source": [
    "## Share of charging and consumption kwh in driven kilometers"
   ]
  },
  {
   "cell_type": "code",
   "execution_count": 13,
   "metadata": {},
   "outputs": [
    {
     "data": {
      "text/html": [
       "<div>\n",
       "<style scoped>\n",
       "    .dataframe tbody tr th:only-of-type {\n",
       "        vertical-align: middle;\n",
       "    }\n",
       "\n",
       "    .dataframe tbody tr th {\n",
       "        vertical-align: top;\n",
       "    }\n",
       "\n",
       "    .dataframe thead th {\n",
       "        text-align: right;\n",
       "    }\n",
       "</style>\n",
       "<table border=\"1\" class=\"dataframe\">\n",
       "  <thead>\n",
       "    <tr style=\"text-align: right;\">\n",
       "      <th></th>\n",
       "      <th>Total Cost</th>\n",
       "      <th>Fillup (kWh)</th>\n",
       "      <th>Fillup (Liter)</th>\n",
       "      <th>Conumption/100km</th>\n",
       "      <th>Cost/100km</th>\n",
       "      <th>Cost Share</th>\n",
       "      <th>Charging(kwh) km Share %</th>\n",
       "      <th>Consumption(kwh) km Share</th>\n",
       "    </tr>\n",
       "    <tr>\n",
       "      <th>Electric</th>\n",
       "      <th></th>\n",
       "      <th></th>\n",
       "      <th></th>\n",
       "      <th></th>\n",
       "      <th></th>\n",
       "      <th></th>\n",
       "      <th></th>\n",
       "      <th></th>\n",
       "    </tr>\n",
       "  </thead>\n",
       "  <tbody>\n",
       "    <tr>\n",
       "      <th>True</th>\n",
       "      <td>19.17</td>\n",
       "      <td>89.2</td>\n",
       "      <td>0.000</td>\n",
       "      <td>4.293622</td>\n",
       "      <td>0.922744</td>\n",
       "      <td>0.102832</td>\n",
       "      <td>20.4</td>\n",
       "      <td>36.8</td>\n",
       "    </tr>\n",
       "    <tr>\n",
       "      <th>False</th>\n",
       "      <td>167.25</td>\n",
       "      <td>0.0</td>\n",
       "      <td>115.829</td>\n",
       "      <td>5.575403</td>\n",
       "      <td>8.050542</td>\n",
       "      <td>0.897168</td>\n",
       "      <td>79.6</td>\n",
       "      <td>63.2</td>\n",
       "    </tr>\n",
       "  </tbody>\n",
       "</table>\n",
       "</div>"
      ],
      "text/plain": [
       "          Total Cost  Fillup (kWh)  Fillup (Liter)  Conumption/100km  \\\n",
       "Electric                                                               \n",
       "True           19.17          89.2           0.000          4.293622   \n",
       "False         167.25           0.0         115.829          5.575403   \n",
       "\n",
       "          Cost/100km  Cost Share  Charging(kwh) km Share %  \\\n",
       "Electric                                                     \n",
       "True        0.922744    0.102832                      20.4   \n",
       "False       8.050542    0.897168                      79.6   \n",
       "\n",
       "          Consumption(kwh) km Share  \n",
       "Electric                             \n",
       "True                           36.8  \n",
       "False                          63.2  "
      ]
     },
     "metadata": {},
     "output_type": "display_data"
    }
   ],
   "source": [
    "totalDist = pdf[\"Distance (km)\"].sum()\n",
    "theoreticalElecDistance = pdf[\"Fillup (kWh)\"].sum()/avgKwhPerKm # Total charging kWh over average kWh/km\n",
    "theoreticalElecDistanceWithRegen = pdf[\"Battery consumption (kWh)\"].sum()/avgKwhPerKm # Total consumption kWh over average kWh/km\n",
    "pdf[\"Electric\"]=pd.notna(pdf['Fillup (kWh)'])\n",
    "pdfAgg = pdf.loc[:,[\"Electric\",\"Total Cost\",'Fillup (kWh)','Fillup (Liter)']].groupby(\"Electric\").sum()\n",
    "pdfAgg[\"Conumption/100km\"] = pdfAgg['Fillup (kWh)']/(totalDist/100) + pdfAgg['Fillup (Liter)']/20.775\n",
    "pdfAgg[\"Cost/100km\"] = pdfAgg['Total Cost']/(totalDist/100)\n",
    "pdfAgg[\"Cost Share\"] = pdfAgg['Total Cost']/pdfAgg['Total Cost'].sum()\n",
    "pdfAgg[\"Charging(kwh) km Share %\"] = np.round(np.array([totalDist-theoreticalElecDistance, theoreticalElecDistance])*100/totalDist,1)\n",
    "pdfAgg[\"Consumption(kwh) km Share\"] = np.round(np.array([totalDist-theoreticalElecDistanceWithRegen, theoreticalElecDistanceWithRegen])*100/totalDist,1)\n",
    "\n",
    "display(pdfAgg.sort_index(ascending=False))"
   ]
  },
  {
   "cell_type": "markdown",
   "metadata": {},
   "source": [
    "## Daily summary"
   ]
  },
  {
   "cell_type": "code",
   "execution_count": 14,
   "metadata": {},
   "outputs": [
    {
     "data": {
      "text/html": [
       "<div>\n",
       "<style scoped>\n",
       "    .dataframe tbody tr th:only-of-type {\n",
       "        vertical-align: middle;\n",
       "    }\n",
       "\n",
       "    .dataframe tbody tr th {\n",
       "        vertical-align: top;\n",
       "    }\n",
       "\n",
       "    .dataframe thead th {\n",
       "        text-align: right;\n",
       "    }\n",
       "</style>\n",
       "<table border=\"1\" class=\"dataframe\">\n",
       "  <thead>\n",
       "    <tr style=\"text-align: right;\">\n",
       "      <th></th>\n",
       "      <th>Distance (km)</th>\n",
       "      <th>Fillup (kWh)</th>\n",
       "      <th>Battery regeneration (kWh)</th>\n",
       "      <th>Battery consumption (kWh)</th>\n",
       "      <th>Charge Count</th>\n",
       "      <th>Can't Charge Count</th>\n",
       "      <th>Calculated Electric Share %</th>\n",
       "    </tr>\n",
       "    <tr>\n",
       "      <th>date</th>\n",
       "      <th></th>\n",
       "      <th></th>\n",
       "      <th></th>\n",
       "      <th></th>\n",
       "      <th></th>\n",
       "      <th></th>\n",
       "      <th></th>\n",
       "    </tr>\n",
       "  </thead>\n",
       "  <tbody>\n",
       "    <tr>\n",
       "      <th>2022-12-17</th>\n",
       "      <td>427.0</td>\n",
       "      <td>13.9</td>\n",
       "      <td>8.6</td>\n",
       "      <td>19.1</td>\n",
       "      <td>2</td>\n",
       "      <td>0</td>\n",
       "      <td>21.3</td>\n",
       "    </tr>\n",
       "    <tr>\n",
       "      <th>2022-12-18</th>\n",
       "      <td>46.6</td>\n",
       "      <td>10.0</td>\n",
       "      <td>1.1</td>\n",
       "      <td>9.4</td>\n",
       "      <td>2</td>\n",
       "      <td>0</td>\n",
       "      <td>96.1</td>\n",
       "    </tr>\n",
       "    <tr>\n",
       "      <th>2022-12-19</th>\n",
       "      <td>309.9</td>\n",
       "      <td>9.0</td>\n",
       "      <td>25.1</td>\n",
       "      <td>32.4</td>\n",
       "      <td>1</td>\n",
       "      <td>1</td>\n",
       "      <td>49.8</td>\n",
       "    </tr>\n",
       "    <tr>\n",
       "      <th>2022-12-20</th>\n",
       "      <td>136.6</td>\n",
       "      <td>16.8</td>\n",
       "      <td>7.7</td>\n",
       "      <td>22.0</td>\n",
       "      <td>2</td>\n",
       "      <td>1</td>\n",
       "      <td>76.7</td>\n",
       "    </tr>\n",
       "    <tr>\n",
       "      <th>2022-12-21</th>\n",
       "      <td>108.0</td>\n",
       "      <td>12.0</td>\n",
       "      <td>5.2</td>\n",
       "      <td>15.5</td>\n",
       "      <td>2</td>\n",
       "      <td>1</td>\n",
       "      <td>68.3</td>\n",
       "    </tr>\n",
       "    <tr>\n",
       "      <th>2022-12-22</th>\n",
       "      <td>364.6</td>\n",
       "      <td>3.4</td>\n",
       "      <td>18.1</td>\n",
       "      <td>24.4</td>\n",
       "      <td>1</td>\n",
       "      <td>4</td>\n",
       "      <td>31.9</td>\n",
       "    </tr>\n",
       "    <tr>\n",
       "      <th>2022-12-23</th>\n",
       "      <td>149.6</td>\n",
       "      <td>15.0</td>\n",
       "      <td>3.8</td>\n",
       "      <td>13.0</td>\n",
       "      <td>2</td>\n",
       "      <td>1</td>\n",
       "      <td>41.4</td>\n",
       "    </tr>\n",
       "    <tr>\n",
       "      <th>2022-12-24</th>\n",
       "      <td>533.1</td>\n",
       "      <td>0.0</td>\n",
       "      <td>20.2</td>\n",
       "      <td>24.6</td>\n",
       "      <td>0</td>\n",
       "      <td>1</td>\n",
       "      <td>22.0</td>\n",
       "    </tr>\n",
       "    <tr>\n",
       "      <th>2022-12-25</th>\n",
       "      <td>2.1</td>\n",
       "      <td>9.1</td>\n",
       "      <td>0.3</td>\n",
       "      <td>0.3</td>\n",
       "      <td>1</td>\n",
       "      <td>0</td>\n",
       "      <td>68.0</td>\n",
       "    </tr>\n",
       "  </tbody>\n",
       "</table>\n",
       "</div>"
      ],
      "text/plain": [
       "            Distance (km)  Fillup (kWh)  Battery regeneration (kWh)  \\\n",
       "date                                                                  \n",
       "2022-12-17          427.0          13.9                         8.6   \n",
       "2022-12-18           46.6          10.0                         1.1   \n",
       "2022-12-19          309.9           9.0                        25.1   \n",
       "2022-12-20          136.6          16.8                         7.7   \n",
       "2022-12-21          108.0          12.0                         5.2   \n",
       "2022-12-22          364.6           3.4                        18.1   \n",
       "2022-12-23          149.6          15.0                         3.8   \n",
       "2022-12-24          533.1           0.0                        20.2   \n",
       "2022-12-25            2.1           9.1                         0.3   \n",
       "\n",
       "            Battery consumption (kWh)  Charge Count  Can't Charge Count  \\\n",
       "date                                                                      \n",
       "2022-12-17                       19.1             2                   0   \n",
       "2022-12-18                        9.4             2                   0   \n",
       "2022-12-19                       32.4             1                   1   \n",
       "2022-12-20                       22.0             2                   1   \n",
       "2022-12-21                       15.5             2                   1   \n",
       "2022-12-22                       24.4             1                   4   \n",
       "2022-12-23                       13.0             2                   1   \n",
       "2022-12-24                       24.6             0                   1   \n",
       "2022-12-25                        0.3             1                   0   \n",
       "\n",
       "            Calculated Electric Share %  \n",
       "date                                     \n",
       "2022-12-17                         21.3  \n",
       "2022-12-18                         96.1  \n",
       "2022-12-19                         49.8  \n",
       "2022-12-20                         76.7  \n",
       "2022-12-21                         68.3  \n",
       "2022-12-22                         31.9  \n",
       "2022-12-23                         41.4  \n",
       "2022-12-24                         22.0  \n",
       "2022-12-25                         68.0  "
      ]
     },
     "metadata": {},
     "output_type": "display_data"
    }
   ],
   "source": [
    "pdf.Started = pd.to_datetime(pdf.Started)\n",
    "pdf[\"date\"] = pdf.Started.dt.date\n",
    "pdf[\"Charge Count\"] = pdf[\"Remarks\"]==\"Park&Charge\"\n",
    "pdf[\"Can't Charge Count\"] = pdf[\"Remarks\"]==\"Missing&ChargeMalfunction\"\n",
    "display(pdf.loc[:,[\"date\",\n",
    "                   \"Distance (km)\",\n",
    "                   \"Fillup (kWh)\", \n",
    "                   \"Battery regeneration (kWh)\", \n",
    "                   \"Battery consumption (kWh)\", \n",
    "                   \"Charge Count\", \n",
    "                   \"Can't Charge Count\"\n",
    "                  ]\n",
    "               ]\n",
    "        .groupby([\"date\"]).sum()\n",
    "        .assign(ElectricShare=lambda x: round((100 * x[\"Battery consumption (kWh)\"] / avgKwhPerKm)/x[\"Distance (km)\"],1))\n",
    "        .rename(columns={'ElectricShare': 'Calculated Electric Share %'})\n",
    "       )"
   ]
  }
 ],
 "metadata": {
  "kernelspec": {
   "display_name": "geopy",
   "language": "python",
   "name": "geopy"
  },
  "language_info": {
   "codemirror_mode": {
    "name": "ipython",
    "version": 3
   },
   "file_extension": ".py",
   "mimetype": "text/x-python",
   "name": "python",
   "nbconvert_exporter": "python",
   "pygments_lexer": "ipython3",
   "version": "3.9.15"
  },
  "vscode": {
   "interpreter": {
    "hash": "a16c53ef123637c2903de395839ef016a6304fa0121c2c442454a41890c84c35"
   }
  }
 },
 "nbformat": 4,
 "nbformat_minor": 4
}
